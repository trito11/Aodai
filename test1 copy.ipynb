{
 "cells": [
  {
   "cell_type": "code",
   "execution_count": 1,
   "metadata": {},
   "outputs": [],
   "source": [
    "import numpy as np\n",
    "import pandas as pd\n",
    "import gym\n",
    "from gym import spaces\n",
    "from gym.utils import seeding\n",
    "import copy\n",
    "import os\n",
    "\n",
    "from config import *\n",
    "from VEC_util import getRateTransData\n",
    "from MyGlobal import MyGlobals\n",
    "\n",
    "def preprocessBusLoction( excel_file):\n",
    "        a = pd.read_excel(os.path.join(DATA_DIR, excel_file)).to_numpy()\n",
    "        a = a[:500, 9:11]\n",
    "        temp = np.zeros(a.shape)\n",
    "        temp[:, 1] = a[:500, 1].min()\n",
    "        a -= temp\n",
    "        return a\n",
    "\n",
    "data900 = preprocessBusLoction(\"xe1.xlsx\")\n",
    "observation_space = spaces.Box(0, 100, [NUM_STATE])\n"
   ]
  },
  {
   "cell_type": "code",
   "execution_count": 4,
   "metadata": {},
   "outputs": [
    {
     "data": {
      "text/plain": [
       "array([[3.00000000e+02, 5.63000000e-01, 1.92200000e+00, 1.80000000e-02,\n",
       "        1.27602666e+00],\n",
       "       [3.00010000e+02, 5.25000000e-01, 1.85000000e+00, 1.60000000e-02,\n",
       "        1.15843444e+00],\n",
       "       [3.00020000e+02, 5.22000000e-01, 1.88700000e+00, 1.50000000e-02,\n",
       "        1.02030641e+00],\n",
       "       ...,\n",
       "       [3.29930000e+02, 5.52000000e-01, 1.77400000e+00, 1.70000000e-02,\n",
       "        1.01659307e+00],\n",
       "       [3.29940000e+02, 5.73000000e-01, 1.62400000e+00, 1.60000000e-02,\n",
       "        1.17157564e+00],\n",
       "       [3.29980000e+02, 5.65000000e-01, 1.82600000e+00, 1.80000000e-02,\n",
       "        1.05840960e+00]])"
      ]
     },
     "execution_count": 4,
     "metadata": {},
     "output_type": "execute_result"
    }
   ],
   "source": [
    "data = pd.read_csv(os.path.join(DATA_TASK, \"datatask{}.csv\".format(\n",
    "            10)), header=None).to_numpy()\n",
    "data"
   ]
  },
  {
   "cell_type": "code",
   "execution_count": 5,
   "metadata": {},
   "outputs": [
    {
     "data": {
      "text/plain": [
       "array([[3.00000000e+02, 5.63000000e-01, 1.92200000e+00, 1.80000000e-02,\n",
       "        1.27602666e+00]])"
      ]
     },
     "execution_count": 5,
     "metadata": {},
     "output_type": "execute_result"
    },
    {
     "ename": "",
     "evalue": "",
     "output_type": "error",
     "traceback": [
      "\u001b[1;31mThe Kernel crashed while executing code in the the current cell or a previous cell. Please review the code in the cell(s) to identify a possible cause of the failure. Click <a href='https://aka.ms/vscodeJupyterKernelCrash'>here</a> for more info. View Jupyter <a href='command:jupyter.viewOutput'>log</a> for further details."
     ]
    }
   ],
   "source": [
    "queue = copy.deepcopy(\n",
    "                data[data[:, 0] == data[0][0]])\n",
    "queue = queue[queue[:, 2].argsort()]\n",
    "queue"
   ]
  }
 ],
 "metadata": {
  "kernelspec": {
   "display_name": "Python 3",
   "language": "python",
   "name": "python3"
  },
  "language_info": {
   "codemirror_mode": {
    "name": "ipython",
    "version": 3
   },
   "file_extension": ".py",
   "mimetype": "text/x-python",
   "name": "python",
   "nbconvert_exporter": "python",
   "pygments_lexer": "ipython3",
   "version": "3.11.4"
  },
  "orig_nbformat": 4
 },
 "nbformat": 4,
 "nbformat_minor": 2
}
